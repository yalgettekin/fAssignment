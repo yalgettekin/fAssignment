{
 "cells": [
  {
   "cell_type": "markdown",
   "id": "c5882b26-19ef-49e5-8726-d1f18c2d2687",
   "metadata": {},
   "source": [
    "### Data Science Tools and Ecosystem\n",
    "In this notebook, Data Science Tools and Ecosystem are summarized\n"
   ]
  },
  {
   "cell_type": "markdown",
   "id": "2b706714-106e-4040-aa00-282bc4ec90df",
   "metadata": {},
   "source": [
    "Some of the popular languages that Data Scientists use are: Python, R, Julia "
   ]
  },
  {
   "cell_type": "markdown",
   "id": "3d90ec06-82c4-4c28-bc34-9d4c7ff9214d",
   "metadata": {},
   "source": [
    "Some of the commonly used libraries used by Data Scientists include: Pandas, Numpy, Matplot, SciPy"
   ]
  },
  {
   "cell_type": "markdown",
   "id": "6e2f8551-e2ff-4e8d-867d-d214c120b5d9",
   "metadata": {
    "tags": []
   },
   "source": [
    "|Data Science Tools|\n",
    "| -------------| \n",
    "| JupyterLab | \n",
    "| VisualStudio Code|\n",
    "| JupyterLite |"
   ]
  },
  {
   "cell_type": "markdown",
   "id": "538baeae-c4d5-460c-afb6-839c06f5971e",
   "metadata": {},
   "source": [
    "### Below are a few examples of evaluating arithmetic expressions in Python.\n"
   ]
  },
  {
   "cell_type": "code",
   "execution_count": 4,
   "id": "512b5a5f-1711-4b51-bd3b-5ab3bdc2355a",
   "metadata": {
    "tags": []
   },
   "outputs": [
    {
     "data": {
      "text/plain": [
       "17"
      ]
     },
     "execution_count": 4,
     "metadata": {},
     "output_type": "execute_result"
    }
   ],
   "source": [
    "#This a simple arithmetic expression to mutiply then add integers\n",
    "(3*4)+5"
   ]
  },
  {
   "cell_type": "code",
   "execution_count": 5,
   "id": "b4b88960-1744-4bdf-abc9-6c60c22aeb5f",
   "metadata": {
    "tags": []
   },
   "outputs": [
    {
     "data": {
      "text/plain": [
       "3"
      ]
     },
     "execution_count": 5,
     "metadata": {},
     "output_type": "execute_result"
    }
   ],
   "source": [
    "# This will convert 200 minutes to hours by diving by 60.\n",
    "200 // 60"
   ]
  },
  {
   "cell_type": "markdown",
   "id": "86ae79a1-70d7-4730-986e-426c995ce234",
   "metadata": {
    "tags": []
   },
   "source": [
    "Popular languages for Data Science\n",
    "- Objectives: Python\n",
    "- Objectives:Julia\n",
    "- Objectives: R"
   ]
  },
  {
   "cell_type": "markdown",
   "id": "bb67d769-e350-4afe-81aa-9f040dcea1ff",
   "metadata": {
    "tags": []
   },
   "source": [
    "## Author\n",
    "Naile Yalgettekin"
   ]
  },
  {
   "cell_type": "code",
   "execution_count": null,
   "id": "685027c3-0f0e-43ef-9cfb-ec2c97b0b04c",
   "metadata": {},
   "outputs": [],
   "source": []
  }
 ],
 "metadata": {
  "kernelspec": {
   "display_name": "Python 3 (ipykernel)",
   "language": "python",
   "name": "python3"
  },
  "language_info": {
   "codemirror_mode": {
    "name": "ipython",
    "version": 3
   },
   "file_extension": ".py",
   "mimetype": "text/x-python",
   "name": "python",
   "nbconvert_exporter": "python",
   "pygments_lexer": "ipython3",
   "version": "3.11.4"
  }
 },
 "nbformat": 4,
 "nbformat_minor": 5
}
